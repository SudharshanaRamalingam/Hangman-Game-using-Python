import random

list_of_words = ['stars','monitor','salt','firetruck','lightning']
answer = random.choice(list_of_words).upper()
hidden_word = '_'*len(answer)
remaining_mistakes =6

print(f"The length of the word is: {len(answer)}")
while(remaining_mistakes>0) and hidden_word.count('_') != 0:
  index_count =0
  letter_count=0
  print("Hidden word is: " +hidden_word)
  input_letter = input("Pick a letter: ").upper()

  for letter in answer:
    if letter == input_letter:
      hidden_word = hidden_word[:index_count] + input_letter + hidden_word[index_count+1:]
      letter_count +=1
    index_count += 1

  if answer.count(input_letter) > 0:
    print(f"CORRECT!, The word contains the letter {input_letter}")
    print(hidden_word)
  else:
    remaining_mistakes -= 1
    print(f"Wrong! Number of mistakes left: {remaining_mistakes}")
    print(hangman[(6)- remaining_mistakes])
    print("----------------------------------------------------")

if remaining_mistakes == 0:
  print(f"HANGED!, The reason for the man's death was {answer}")
else:
  print("CONGRATULATIONS!")





hangman={0:'''
        ____________
         |



         ''',
        1:'''
        ____________
         |
         O


         ''',
        2:'''
        ____________
         |
         O
        /

        ''',
        3:'''
        ____________
         |
         O
        / \\

        ''',
        4:'''
        ____________
         |
         O
        / \\
         |
         ''',
        5:'''
        ____________
         |
         O
        / \\
         |
        /''',
        6:'''
        ____________
         |
         O
        / \\
         |
        / \\ '''}
